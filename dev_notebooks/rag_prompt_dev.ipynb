{
 "cells": [
  {
   "cell_type": "markdown",
   "metadata": {},
   "source": [
    "##### Install Dependencies\n",
    "\n"
   ]
  },
  {
   "cell_type": "code",
   "execution_count": 1,
   "metadata": {},
   "outputs": [
    {
     "name": "stdout",
     "output_type": "stream",
     "text": [
      "Requirement already satisfied: pip in c:\\users\\haits\\appdata\\local\\packages\\pythonsoftwarefoundation.python.3.11_qbz5n2kfra8p0\\localcache\\local-packages\\python311\\site-packages (24.3.1)\n"
     ]
    }
   ],
   "source": [
    "!python -m pip install --upgrade pip"
   ]
  },
  {
   "cell_type": "code",
   "execution_count": 2,
   "metadata": {},
   "outputs": [
    {
     "name": "stdout",
     "output_type": "stream",
     "text": [
      "Collecting weaviate-client==4.7.1\n",
      "  Using cached weaviate_client-4.7.1-py3-none-any.whl.metadata (3.3 kB)\n",
      "Requirement already satisfied: requests<3.0.0,>=2.30.0 in c:\\users\\haits\\appdata\\local\\packages\\pythonsoftwarefoundation.python.3.11_qbz5n2kfra8p0\\localcache\\local-packages\\python311\\site-packages (from weaviate-client==4.7.1) (2.31.0)\n",
      "Requirement already satisfied: httpx<=0.27.0,>=0.25.0 in c:\\users\\haits\\appdata\\local\\packages\\pythonsoftwarefoundation.python.3.11_qbz5n2kfra8p0\\localcache\\local-packages\\python311\\site-packages (from weaviate-client==4.7.1) (0.27.0)\n",
      "Collecting validators==0.33.0 (from weaviate-client==4.7.1)\n",
      "  Using cached validators-0.33.0-py3-none-any.whl.metadata (3.8 kB)\n",
      "Requirement already satisfied: authlib<2.0.0,>=1.2.1 in c:\\users\\haits\\appdata\\local\\packages\\pythonsoftwarefoundation.python.3.11_qbz5n2kfra8p0\\localcache\\local-packages\\python311\\site-packages (from weaviate-client==4.7.1) (1.3.1)\n",
      "Requirement already satisfied: pydantic<3.0.0,>=2.5.0 in c:\\users\\haits\\appdata\\local\\packages\\pythonsoftwarefoundation.python.3.11_qbz5n2kfra8p0\\localcache\\local-packages\\python311\\site-packages (from weaviate-client==4.7.1) (2.9.1)\n",
      "Requirement already satisfied: grpcio<2.0.0,>=1.57.0 in c:\\users\\haits\\appdata\\local\\packages\\pythonsoftwarefoundation.python.3.11_qbz5n2kfra8p0\\localcache\\local-packages\\python311\\site-packages (from weaviate-client==4.7.1) (1.67.0)\n",
      "Requirement already satisfied: grpcio-tools<2.0.0,>=1.57.0 in c:\\users\\haits\\appdata\\local\\packages\\pythonsoftwarefoundation.python.3.11_qbz5n2kfra8p0\\localcache\\local-packages\\python311\\site-packages (from weaviate-client==4.7.1) (1.67.0)\n",
      "Requirement already satisfied: grpcio-health-checking<2.0.0,>=1.57.0 in c:\\users\\haits\\appdata\\local\\packages\\pythonsoftwarefoundation.python.3.11_qbz5n2kfra8p0\\localcache\\local-packages\\python311\\site-packages (from weaviate-client==4.7.1) (1.67.0)\n",
      "Requirement already satisfied: cryptography in c:\\users\\haits\\appdata\\local\\packages\\pythonsoftwarefoundation.python.3.11_qbz5n2kfra8p0\\localcache\\local-packages\\python311\\site-packages (from authlib<2.0.0,>=1.2.1->weaviate-client==4.7.1) (43.0.1)\n",
      "Requirement already satisfied: protobuf<6.0dev,>=5.26.1 in c:\\users\\haits\\appdata\\local\\packages\\pythonsoftwarefoundation.python.3.11_qbz5n2kfra8p0\\localcache\\local-packages\\python311\\site-packages (from grpcio-health-checking<2.0.0,>=1.57.0->weaviate-client==4.7.1) (5.28.2)\n",
      "Requirement already satisfied: setuptools in c:\\program files\\windowsapps\\pythonsoftwarefoundation.python.3.11_3.11.2544.0_x64__qbz5n2kfra8p0\\lib\\site-packages (from grpcio-tools<2.0.0,>=1.57.0->weaviate-client==4.7.1) (65.5.0)\n",
      "Requirement already satisfied: anyio in c:\\users\\haits\\appdata\\local\\packages\\pythonsoftwarefoundation.python.3.11_qbz5n2kfra8p0\\localcache\\local-packages\\python311\\site-packages (from httpx<=0.27.0,>=0.25.0->weaviate-client==4.7.1) (4.4.0)\n",
      "Requirement already satisfied: certifi in c:\\users\\haits\\appdata\\local\\packages\\pythonsoftwarefoundation.python.3.11_qbz5n2kfra8p0\\localcache\\local-packages\\python311\\site-packages (from httpx<=0.27.0,>=0.25.0->weaviate-client==4.7.1) (2024.8.30)\n",
      "Requirement already satisfied: httpcore==1.* in c:\\users\\haits\\appdata\\local\\packages\\pythonsoftwarefoundation.python.3.11_qbz5n2kfra8p0\\localcache\\local-packages\\python311\\site-packages (from httpx<=0.27.0,>=0.25.0->weaviate-client==4.7.1) (1.0.5)\n",
      "Requirement already satisfied: idna in c:\\users\\haits\\appdata\\local\\packages\\pythonsoftwarefoundation.python.3.11_qbz5n2kfra8p0\\localcache\\local-packages\\python311\\site-packages (from httpx<=0.27.0,>=0.25.0->weaviate-client==4.7.1) (3.8)\n",
      "Requirement already satisfied: sniffio in c:\\users\\haits\\appdata\\local\\packages\\pythonsoftwarefoundation.python.3.11_qbz5n2kfra8p0\\localcache\\local-packages\\python311\\site-packages (from httpx<=0.27.0,>=0.25.0->weaviate-client==4.7.1) (1.3.1)\n",
      "Requirement already satisfied: h11<0.15,>=0.13 in c:\\users\\haits\\appdata\\local\\packages\\pythonsoftwarefoundation.python.3.11_qbz5n2kfra8p0\\localcache\\local-packages\\python311\\site-packages (from httpcore==1.*->httpx<=0.27.0,>=0.25.0->weaviate-client==4.7.1) (0.14.0)\n",
      "Requirement already satisfied: annotated-types>=0.6.0 in c:\\users\\haits\\appdata\\local\\packages\\pythonsoftwarefoundation.python.3.11_qbz5n2kfra8p0\\localcache\\local-packages\\python311\\site-packages (from pydantic<3.0.0,>=2.5.0->weaviate-client==4.7.1) (0.7.0)\n",
      "Requirement already satisfied: pydantic-core==2.23.3 in c:\\users\\haits\\appdata\\local\\packages\\pythonsoftwarefoundation.python.3.11_qbz5n2kfra8p0\\localcache\\local-packages\\python311\\site-packages (from pydantic<3.0.0,>=2.5.0->weaviate-client==4.7.1) (2.23.3)\n",
      "Requirement already satisfied: typing-extensions>=4.6.1 in c:\\users\\haits\\appdata\\local\\packages\\pythonsoftwarefoundation.python.3.11_qbz5n2kfra8p0\\localcache\\local-packages\\python311\\site-packages (from pydantic<3.0.0,>=2.5.0->weaviate-client==4.7.1) (4.12.2)\n",
      "Requirement already satisfied: charset-normalizer<4,>=2 in c:\\users\\haits\\appdata\\local\\packages\\pythonsoftwarefoundation.python.3.11_qbz5n2kfra8p0\\localcache\\local-packages\\python311\\site-packages (from requests<3.0.0,>=2.30.0->weaviate-client==4.7.1) (3.3.2)\n",
      "Requirement already satisfied: urllib3<3,>=1.21.1 in c:\\users\\haits\\appdata\\local\\packages\\pythonsoftwarefoundation.python.3.11_qbz5n2kfra8p0\\localcache\\local-packages\\python311\\site-packages (from requests<3.0.0,>=2.30.0->weaviate-client==4.7.1) (2.2.3)\n",
      "Requirement already satisfied: cffi>=1.12 in c:\\users\\haits\\appdata\\local\\packages\\pythonsoftwarefoundation.python.3.11_qbz5n2kfra8p0\\localcache\\local-packages\\python311\\site-packages (from cryptography->authlib<2.0.0,>=1.2.1->weaviate-client==4.7.1) (1.17.1)\n",
      "Requirement already satisfied: pycparser in c:\\users\\haits\\appdata\\local\\packages\\pythonsoftwarefoundation.python.3.11_qbz5n2kfra8p0\\localcache\\local-packages\\python311\\site-packages (from cffi>=1.12->cryptography->authlib<2.0.0,>=1.2.1->weaviate-client==4.7.1) (2.22)\n",
      "Using cached weaviate_client-4.7.1-py3-none-any.whl (368 kB)\n",
      "Using cached validators-0.33.0-py3-none-any.whl (43 kB)\n",
      "Installing collected packages: validators, weaviate-client\n",
      "  Attempting uninstall: validators\n",
      "    Found existing installation: validators 0.34.0\n",
      "    Uninstalling validators-0.34.0:\n",
      "      Successfully uninstalled validators-0.34.0\n",
      "  Attempting uninstall: weaviate-client\n",
      "    Found existing installation: weaviate-client 4.9.3\n",
      "    Uninstalling weaviate-client-4.9.3:\n",
      "      Successfully uninstalled weaviate-client-4.9.3\n",
      "Successfully installed validators-0.33.0 weaviate-client-4.7.1\n"
     ]
    },
    {
     "name": "stderr",
     "output_type": "stream",
     "text": [
      "ERROR: pip's dependency resolver does not currently take into account all the packages that are installed. This behaviour is the source of the following dependency conflicts.\n",
      "goldenverba 2.0.0 requires python-dotenv==1.0.0, but you have python-dotenv 1.0.1 which is incompatible.\n"
     ]
    },
    {
     "name": "stdout",
     "output_type": "stream",
     "text": [
      "Collecting python-dotenv==1.0.0\n",
      "  Using cached python_dotenv-1.0.0-py3-none-any.whl.metadata (21 kB)\n",
      "Using cached python_dotenv-1.0.0-py3-none-any.whl (19 kB)\n",
      "Installing collected packages: python-dotenv\n",
      "  Attempting uninstall: python-dotenv\n",
      "    Found existing installation: python-dotenv 1.0.1\n",
      "    Uninstalling python-dotenv-1.0.1:\n",
      "      Successfully uninstalled python-dotenv-1.0.1\n",
      "Successfully installed python-dotenv-1.0.0\n",
      "Requirement already satisfied: openai==1.54.3 in c:\\users\\haits\\appdata\\local\\packages\\pythonsoftwarefoundation.python.3.11_qbz5n2kfra8p0\\localcache\\local-packages\\python311\\site-packages (1.54.3)\n",
      "Requirement already satisfied: anyio<5,>=3.5.0 in c:\\users\\haits\\appdata\\local\\packages\\pythonsoftwarefoundation.python.3.11_qbz5n2kfra8p0\\localcache\\local-packages\\python311\\site-packages (from openai==1.54.3) (4.4.0)\n",
      "Requirement already satisfied: distro<2,>=1.7.0 in c:\\users\\haits\\appdata\\local\\packages\\pythonsoftwarefoundation.python.3.11_qbz5n2kfra8p0\\localcache\\local-packages\\python311\\site-packages (from openai==1.54.3) (1.9.0)\n",
      "Requirement already satisfied: httpx<1,>=0.23.0 in c:\\users\\haits\\appdata\\local\\packages\\pythonsoftwarefoundation.python.3.11_qbz5n2kfra8p0\\localcache\\local-packages\\python311\\site-packages (from openai==1.54.3) (0.27.0)\n",
      "Requirement already satisfied: jiter<1,>=0.4.0 in c:\\users\\haits\\appdata\\local\\packages\\pythonsoftwarefoundation.python.3.11_qbz5n2kfra8p0\\localcache\\local-packages\\python311\\site-packages (from openai==1.54.3) (0.5.0)\n",
      "Requirement already satisfied: pydantic<3,>=1.9.0 in c:\\users\\haits\\appdata\\local\\packages\\pythonsoftwarefoundation.python.3.11_qbz5n2kfra8p0\\localcache\\local-packages\\python311\\site-packages (from openai==1.54.3) (2.9.1)\n",
      "Requirement already satisfied: sniffio in c:\\users\\haits\\appdata\\local\\packages\\pythonsoftwarefoundation.python.3.11_qbz5n2kfra8p0\\localcache\\local-packages\\python311\\site-packages (from openai==1.54.3) (1.3.1)\n",
      "Requirement already satisfied: tqdm>4 in c:\\users\\haits\\appdata\\local\\packages\\pythonsoftwarefoundation.python.3.11_qbz5n2kfra8p0\\localcache\\local-packages\\python311\\site-packages (from openai==1.54.3) (4.66.5)\n",
      "Requirement already satisfied: typing-extensions<5,>=4.11 in c:\\users\\haits\\appdata\\local\\packages\\pythonsoftwarefoundation.python.3.11_qbz5n2kfra8p0\\localcache\\local-packages\\python311\\site-packages (from openai==1.54.3) (4.12.2)\n",
      "Requirement already satisfied: idna>=2.8 in c:\\users\\haits\\appdata\\local\\packages\\pythonsoftwarefoundation.python.3.11_qbz5n2kfra8p0\\localcache\\local-packages\\python311\\site-packages (from anyio<5,>=3.5.0->openai==1.54.3) (3.8)\n",
      "Requirement already satisfied: certifi in c:\\users\\haits\\appdata\\local\\packages\\pythonsoftwarefoundation.python.3.11_qbz5n2kfra8p0\\localcache\\local-packages\\python311\\site-packages (from httpx<1,>=0.23.0->openai==1.54.3) (2024.8.30)\n",
      "Requirement already satisfied: httpcore==1.* in c:\\users\\haits\\appdata\\local\\packages\\pythonsoftwarefoundation.python.3.11_qbz5n2kfra8p0\\localcache\\local-packages\\python311\\site-packages (from httpx<1,>=0.23.0->openai==1.54.3) (1.0.5)\n",
      "Requirement already satisfied: h11<0.15,>=0.13 in c:\\users\\haits\\appdata\\local\\packages\\pythonsoftwarefoundation.python.3.11_qbz5n2kfra8p0\\localcache\\local-packages\\python311\\site-packages (from httpcore==1.*->httpx<1,>=0.23.0->openai==1.54.3) (0.14.0)\n",
      "Requirement already satisfied: annotated-types>=0.6.0 in c:\\users\\haits\\appdata\\local\\packages\\pythonsoftwarefoundation.python.3.11_qbz5n2kfra8p0\\localcache\\local-packages\\python311\\site-packages (from pydantic<3,>=1.9.0->openai==1.54.3) (0.7.0)\n",
      "Requirement already satisfied: pydantic-core==2.23.3 in c:\\users\\haits\\appdata\\local\\packages\\pythonsoftwarefoundation.python.3.11_qbz5n2kfra8p0\\localcache\\local-packages\\python311\\site-packages (from pydantic<3,>=1.9.0->openai==1.54.3) (2.23.3)\n",
      "Requirement already satisfied: colorama in c:\\users\\haits\\appdata\\local\\packages\\pythonsoftwarefoundation.python.3.11_qbz5n2kfra8p0\\localcache\\local-packages\\python311\\site-packages (from tqdm>4->openai==1.54.3) (0.4.6)\n",
      "Requirement already satisfied: assemblyai==0.35.1 in c:\\users\\haits\\appdata\\local\\packages\\pythonsoftwarefoundation.python.3.11_qbz5n2kfra8p0\\localcache\\local-packages\\python311\\site-packages (0.35.1)\n",
      "Requirement already satisfied: httpx>=0.19.0 in c:\\users\\haits\\appdata\\local\\packages\\pythonsoftwarefoundation.python.3.11_qbz5n2kfra8p0\\localcache\\local-packages\\python311\\site-packages (from assemblyai==0.35.1) (0.27.0)\n",
      "Requirement already satisfied: pydantic>=1.10.17 in c:\\users\\haits\\appdata\\local\\packages\\pythonsoftwarefoundation.python.3.11_qbz5n2kfra8p0\\localcache\\local-packages\\python311\\site-packages (from assemblyai==0.35.1) (2.9.1)\n",
      "Requirement already satisfied: typing-extensions>=3.7 in c:\\users\\haits\\appdata\\local\\packages\\pythonsoftwarefoundation.python.3.11_qbz5n2kfra8p0\\localcache\\local-packages\\python311\\site-packages (from assemblyai==0.35.1) (4.12.2)\n",
      "Requirement already satisfied: websockets>=11.0 in c:\\users\\haits\\appdata\\local\\packages\\pythonsoftwarefoundation.python.3.11_qbz5n2kfra8p0\\localcache\\local-packages\\python311\\site-packages (from assemblyai==0.35.1) (13.1)\n",
      "Requirement already satisfied: anyio in c:\\users\\haits\\appdata\\local\\packages\\pythonsoftwarefoundation.python.3.11_qbz5n2kfra8p0\\localcache\\local-packages\\python311\\site-packages (from httpx>=0.19.0->assemblyai==0.35.1) (4.4.0)\n",
      "Requirement already satisfied: certifi in c:\\users\\haits\\appdata\\local\\packages\\pythonsoftwarefoundation.python.3.11_qbz5n2kfra8p0\\localcache\\local-packages\\python311\\site-packages (from httpx>=0.19.0->assemblyai==0.35.1) (2024.8.30)\n",
      "Requirement already satisfied: httpcore==1.* in c:\\users\\haits\\appdata\\local\\packages\\pythonsoftwarefoundation.python.3.11_qbz5n2kfra8p0\\localcache\\local-packages\\python311\\site-packages (from httpx>=0.19.0->assemblyai==0.35.1) (1.0.5)\n",
      "Requirement already satisfied: idna in c:\\users\\haits\\appdata\\local\\packages\\pythonsoftwarefoundation.python.3.11_qbz5n2kfra8p0\\localcache\\local-packages\\python311\\site-packages (from httpx>=0.19.0->assemblyai==0.35.1) (3.8)\n",
      "Requirement already satisfied: sniffio in c:\\users\\haits\\appdata\\local\\packages\\pythonsoftwarefoundation.python.3.11_qbz5n2kfra8p0\\localcache\\local-packages\\python311\\site-packages (from httpx>=0.19.0->assemblyai==0.35.1) (1.3.1)\n",
      "Requirement already satisfied: h11<0.15,>=0.13 in c:\\users\\haits\\appdata\\local\\packages\\pythonsoftwarefoundation.python.3.11_qbz5n2kfra8p0\\localcache\\local-packages\\python311\\site-packages (from httpcore==1.*->httpx>=0.19.0->assemblyai==0.35.1) (0.14.0)\n",
      "Requirement already satisfied: annotated-types>=0.6.0 in c:\\users\\haits\\appdata\\local\\packages\\pythonsoftwarefoundation.python.3.11_qbz5n2kfra8p0\\localcache\\local-packages\\python311\\site-packages (from pydantic>=1.10.17->assemblyai==0.35.1) (0.7.0)\n",
      "Requirement already satisfied: pydantic-core==2.23.3 in c:\\users\\haits\\appdata\\local\\packages\\pythonsoftwarefoundation.python.3.11_qbz5n2kfra8p0\\localcache\\local-packages\\python311\\site-packages (from pydantic>=1.10.17->assemblyai==0.35.1) (2.23.3)\n"
     ]
    }
   ],
   "source": [
    "!python -m pip install -U weaviate-client==4.7.1\n",
    "!python -m pip install python-dotenv==1.0.0\n",
    "!python -m pip install openai==1.54.3\n",
    "!python -m pip install assemblyai==0.35.1"
   ]
  },
  {
   "cell_type": "markdown",
   "metadata": {},
   "source": [
    "##### Environmental Variables & Configurations"
   ]
  },
  {
   "cell_type": "markdown",
   "metadata": {},
   "source": [
    "**FIRST** Create your .env file in this folder.  Use the .env.example file as a guide."
   ]
  },
  {
   "cell_type": "code",
   "execution_count": null,
   "metadata": {},
   "outputs": [
    {
     "ename": "TypeError",
     "evalue": "object of type 'NoneType' has no len()",
     "output_type": "error",
     "traceback": [
      "\u001b[1;31m---------------------------------------------------------------------------\u001b[0m",
      "\u001b[1;31mTypeError\u001b[0m                                 Traceback (most recent call last)",
      "Cell \u001b[1;32mIn[6], line 18\u001b[0m\n\u001b[0;32m     15\u001b[0m WEAVIATE_URL \u001b[38;5;241m=\u001b[39m os\u001b[38;5;241m.\u001b[39mgetenv(\u001b[38;5;124m'\u001b[39m\u001b[38;5;124mWEAVIATE_URL\u001b[39m\u001b[38;5;124m'\u001b[39m)\n\u001b[0;32m     16\u001b[0m WEAVIATE_API_KEY \u001b[38;5;241m=\u001b[39m os\u001b[38;5;241m.\u001b[39mgetenv(\u001b[38;5;124m'\u001b[39m\u001b[38;5;124mWEAVIATE_API_KEY\u001b[39m\u001b[38;5;124m'\u001b[39m)\n\u001b[1;32m---> 18\u001b[0m \u001b[38;5;28mprint\u001b[39m(\u001b[38;5;28;43mlen\u001b[39;49m\u001b[43m(\u001b[49m\u001b[43mWEAVIATE_URL\u001b[49m\u001b[43m)\u001b[49m\u001b[38;5;241m>\u001b[39m\u001b[38;5;241m20\u001b[39m)\n\u001b[0;32m     19\u001b[0m \u001b[38;5;28mprint\u001b[39m(\u001b[38;5;28mlen\u001b[39m(WEAVIATE_API_KEY)\u001b[38;5;241m>\u001b[39m\u001b[38;5;241m20\u001b[39m)\n\u001b[0;32m     20\u001b[0m \u001b[38;5;28mprint\u001b[39m(\u001b[38;5;28mlen\u001b[39m(OPENAI_API_KEY)\u001b[38;5;241m>\u001b[39m\u001b[38;5;241m20\u001b[39m)\n",
      "\u001b[1;31mTypeError\u001b[0m: object of type 'NoneType' has no len()"
     ]
    }
   ],
   "source": [
    "# Import Environmental Variables\n",
    "\n",
    "#Environmental variables\n",
    "import os\n",
    "from dotenv import load_dotenv\n",
    "load_dotenv()\n",
    "\n",
    "#Keys and URLs for Embedding and Generative Models\n",
    "OPENAI_API_KEY = os.getenv('OPENAI_API_KEY')\n",
    "# OPENAI_BASE_URL = os.getenv('OPENAI_BASE_URL')\n",
    "OPENAI_EMBEDDING_URL = os.getenv('OPENAI_EMBEDDING_URL')\n",
    "OPENAI_GENERATION_URL = os.getenv('OPENAI_GENERATION_URL')\n",
    "\n",
    "#Keys and URLS for Vector Databases\n",
    "WEAVIATE_URL = os.getenv('WEAVIATE_URL')\n",
    "WEAVIATE_API_KEY = os.getenv('WEAVIATE_API_KEY')\n",
    "\n",
    "print(len(WEAVIATE_URL)>20)\n",
    "print(len(WEAVIATE_API_KEY)>20)\n",
    "print(len(OPENAI_API_KEY)>20)"
   ]
  },
  {
   "cell_type": "code",
   "execution_count": null,
   "metadata": {},
   "outputs": [],
   "source": [
    "# Embedding\n",
    "EMBEDDING_MODEL = \"text-embedding-3-small\"\n",
    "ENCODING_FORMAT = \"float\"\n",
    "\n",
    "# Database\n",
    "COLLECTION_NAME = \"VERBA_Embedding_text_embedding_3_small\"\n",
    "\n",
    "RESPONDING_GENERATIVE_MODEL = \"gpt-4o\"\n",
    "\n",
    "TRUSTSAFETY_GENERATIVE_MODEL = \"gpt-4o\""
   ]
  },
  {
   "cell_type": "markdown",
   "metadata": {},
   "source": [
    "##### Vector Database Connection"
   ]
  },
  {
   "cell_type": "code",
   "execution_count": null,
   "metadata": {},
   "outputs": [],
   "source": [
    "# VECTOR DATABASE CONNECTION\n",
    "\n",
    "from weaviate.classes.init import Auth, AdditionalConfig, Timeout\n",
    "import weaviate\n",
    "\n",
    "weaviate_client = weaviate.connect_to_weaviate_cloud(\n",
    "    cluster_url = WEAVIATE_URL,\n",
    "    auth_credentials = Auth.api_key(WEAVIATE_API_KEY),\n",
    "    additional_config=AdditionalConfig(timeout=Timeout(init=30, query=60, insert=120))  # Values in seconds\n",
    ")\n",
    "\n",
    "print(weaviate_client.is_ready())"
   ]
  },
  {
   "cell_type": "code",
   "execution_count": null,
   "metadata": {},
   "outputs": [],
   "source": [
    "# for collection in weaviate_client.collections.list_all():\n",
    "#     print(collection)"
   ]
  },
  {
   "cell_type": "code",
   "execution_count": null,
   "metadata": {},
   "outputs": [],
   "source": [
    "# weaviate_client.close()"
   ]
  },
  {
   "cell_type": "markdown",
   "metadata": {},
   "source": [
    "##### Embedding Service Connection"
   ]
  },
  {
   "cell_type": "code",
   "execution_count": null,
   "metadata": {},
   "outputs": [],
   "source": [
    "# Extracts the actual vector embedding from the OpenAI response\n",
    "# https://platform.openai.com/docs/api-reference/embeddings/create\n",
    "def openai_extract_vector(\n",
    "        response\n",
    "    ) -> list[float]:\n",
    "\n",
    "    return response.data[0].embedding"
   ]
  },
  {
   "cell_type": "code",
   "execution_count": null,
   "metadata": {},
   "outputs": [],
   "source": [
    "# EMBEDDING CONNECTION - OPENAI\n",
    "# https://platform.openai.com/docs/api-reference/authentication\n",
    "\n",
    "import openai\n",
    "from openai import OpenAI\n",
    "\n",
    "# Set API Key.  Not necessary if you have an \n",
    "# OPENAI_API_KEY variable in your environment\n",
    "openai.api_key = OPENAI_API_KEY \n",
    "embedding_client = OpenAI()"
   ]
  },
  {
   "cell_type": "code",
   "execution_count": null,
   "metadata": {},
   "outputs": [],
   "source": [
    "# print(type(embedding_client))\n",
    "\n",
    "# for item in embedding_client.models.list():\n",
    "#     print(item)"
   ]
  },
  {
   "cell_type": "markdown",
   "metadata": {},
   "source": [
    "##### Generation Service Connection"
   ]
  },
  {
   "cell_type": "code",
   "execution_count": null,
   "metadata": {},
   "outputs": [],
   "source": [
    "# GENERATION CONNECTION - OPENAI\n",
    "# https://platform.openai.com/docs/api-reference/authentication\n",
    "\n",
    "import openai\n",
    "from openai import OpenAI\n",
    "\n",
    "# Set API Key.  Not necessary if you have an \n",
    "# OPENAI_API_KEY variable in your environment\n",
    "openai.api_key = OPENAI_API_KEY \n",
    "\n",
    "generation_client = OpenAI()\n"
   ]
  },
  {
   "cell_type": "markdown",
   "metadata": {},
   "source": [
    "##### Simple RAG Implementation"
   ]
  },
  {
   "cell_type": "code",
   "execution_count": null,
   "metadata": {},
   "outputs": [],
   "source": [
    "from weaviate.classes.query import MetadataQuery\n",
    "\n",
    "user_prompt = \"I'd like to know about issues with plumbing in or around 2024\"\n",
    "\n",
    "# Vectorize the query\n",
    "embedding_response = embedding_client.embeddings.create(\n",
    "    model = EMBEDDING_MODEL,\n",
    "    input = user_prompt,\n",
    "    encoding_format = ENCODING_FORMAT\n",
    ")\n",
    "\n",
    "# Extract the vector embeddings list[float] from the embedding response\n",
    "vectorized_query = openai_extract_vector(embedding_response) \n",
    "\n",
    "# Look up the appropriate Weviate database collection - name based on embedding model used\n",
    "db_collection = weaviate_client.collections.get('VERBA_Embedding_text_embedding_3_small')\n",
    "\n",
    "# Send vector query to database and get response\n",
    "db_response = db_collection.query.near_vector(\n",
    "    near_vector=vectorized_query,\n",
    "    limit=10,\n",
    "    return_metadata=MetadataQuery(distance=True)\n",
    ")\n",
    "\n",
    "# Extract items from database response \n",
    "# and aggregate into a single string \n",
    "db_response_content = \"\"\n",
    "for item in db_response.objects:\n",
    "    segment = '\\n<ContextSegment' + str(int(item.properties.get('chunk_id'))) + '>\\n'\n",
    "    db_response_content += segment\n",
    "    db_response_content += item.properties.get('content')\n",
    "\n",
    "# # Print results\n",
    "# for item in db_response.objects:\n",
    "#     print(item.properties)\n",
    "#     print(item.metadata.distance)\n",
    "\n",
    "# print(db_response_content)"
   ]
  },
  {
   "cell_type": "code",
   "execution_count": null,
   "metadata": {},
   "outputs": [],
   "source": [
    "# Response Generation with OpenAI\n",
    "# # https://platform.openai.com/docs/api-reference/chat/create\n",
    "\n",
    "\n",
    "generation_response = generation_client.chat.completions.create(\n",
    "  model=RESPONDING_GENERATIVE_MODEL,\n",
    "  messages=[\n",
    "    {\n",
    "      \"role\": \"system\", \n",
    "      \"content\": f\"You are a helpful assistant who uses this context if appropriate: {db_response_content}\"\n",
    "    },\n",
    "    {\n",
    "      \"role\": \"user\", \n",
    "      \"content\": user_prompt \n",
    "    }\n",
    "  ]\n",
    ")\n",
    "\n",
    "print(generation_response.choices[0].message.content)"
   ]
  }
 ],
 "metadata": {
  "colab": {
   "provenance": []
  },
  "kernelspec": {
   "display_name": "Python 3",
   "name": "python3"
  },
  "language_info": {
   "codemirror_mode": {
    "name": "ipython",
    "version": 3
   },
   "file_extension": ".py",
   "mimetype": "text/x-python",
   "name": "python",
   "nbconvert_exporter": "python",
   "pygments_lexer": "ipython3",
   "version": "3.11.9"
  }
 },
 "nbformat": 4,
 "nbformat_minor": 0
}
